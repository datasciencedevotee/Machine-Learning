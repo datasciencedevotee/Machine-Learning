{
 "cells": [
  {
   "cell_type": "markdown",
   "id": "4520c1f4",
   "metadata": {},
   "source": [
    "# What is EDA?\n",
    "\n",
    "- Exploratory Data Analysis (EDA) is a method used to analyze and summarize datasets. \n",
    "- It will give you the basic understanding of your data, it’s distribution, null values and much more.\n",
    "- You can either explore data using graphs or through some python functions.\n",
    "- There are three type of analysis. Univariate, Bivariate and Multivariate. In the univariate, you will be analyzing a single attribute. But in the bivariate, you will be analyzing an attribute with the target attribute. And in Multivariate, you will be analyzing multipule attribute together.\n",
    "- In the non-graphical approach, you will be using functions such as shape, summary, describe, isnull, info, datatypes and more.\n",
    "- In the graphical approach, you will be using plots such as scatter, box, bar, density and correlation plots.\n",
    "\n",
    "#### In this notebook we will only look **univariate analysis**."
   ]
  },
  {
   "cell_type": "markdown",
   "id": "bf94bdec",
   "metadata": {},
   "source": [
    "## Which dataset we are going to use?\n",
    "\n",
    "#### Titanic Dataset\n",
    "\n",
    "- It is one of the most popular datasets used for understanding machine learning basics. It contains information of all the passengers aboard the RMS Titanic, which unfortunately was shipwrecked. This dataset can be used to predict whether a given passenger survived or not. \n",
    "\n",
    "##### The Titanic Dataset contains following attributes:\n",
    "\n",
    "- PassengerID : Unique ID of a passenger\n",
    "- Survived: If the passenger survived(0-No, 1-Yes)   **Target Feature**\n",
    "- Pclass: Passenger Class (1 = 1st, 2 = 2nd, 3 = 3rd)\n",
    "- Name: Name of the passenger\n",
    "- Sex: Male/Female\n",
    "- Age: Passenger age in years\n",
    "- SibSp: No of siblings/spouses abroad\n",
    "- Parch: No of paents/children abroad\n",
    "- Ticket: Ticket Number\n",
    "- Fare: Passenger Fare\n",
    "- Cabin: Cabin Number\n",
    "- Embarked: Port of Embarkation(C = Cherbough, Q = Queenstown, S = Southampton)"
   ]
  },
  {
   "cell_type": "code",
   "execution_count": 1,
   "id": "edf777f4",
   "metadata": {},
   "outputs": [
    {
     "name": "stdout",
     "output_type": "stream",
     "text": [
      "Number of records present in given dataset is: 891 \n",
      "Number of attributes present in given dataset is: 12 \n"
     ]
    }
   ],
   "source": [
    "#Load the required libraries\n",
    "import pandas as pd\n",
    "import numpy as np\n",
    "import seaborn as sns\n",
    "import matplotlib.pyplot as plt\n",
    " \n",
    "#Load the data\n",
    "df = pd.read_csv('titanic.csv')\n",
    " \n",
    "#View the data\n",
    "df.head()\n",
    "\n",
    "#shape of data\n",
    "print(f\"Number of records present in given dataset is: {df.shape[0]} \")\n",
    "print(f\"Number of attributes present in given dataset is: {df.shape[1]} \")"
   ]
  },
  {
   "cell_type": "code",
   "execution_count": 2,
   "id": "81d968eb",
   "metadata": {},
   "outputs": [
    {
     "data": {
      "text/html": [
       "<div>\n",
       "<style scoped>\n",
       "    .dataframe tbody tr th:only-of-type {\n",
       "        vertical-align: middle;\n",
       "    }\n",
       "\n",
       "    .dataframe tbody tr th {\n",
       "        vertical-align: top;\n",
       "    }\n",
       "\n",
       "    .dataframe thead th {\n",
       "        text-align: right;\n",
       "    }\n",
       "</style>\n",
       "<table border=\"1\" class=\"dataframe\">\n",
       "  <thead>\n",
       "    <tr style=\"text-align: right;\">\n",
       "      <th></th>\n",
       "      <th>PassengerId</th>\n",
       "      <th>Survived</th>\n",
       "      <th>Pclass</th>\n",
       "      <th>Name</th>\n",
       "      <th>Sex</th>\n",
       "      <th>Age</th>\n",
       "      <th>SibSp</th>\n",
       "      <th>Parch</th>\n",
       "      <th>Ticket</th>\n",
       "      <th>Fare</th>\n",
       "      <th>Cabin</th>\n",
       "      <th>Embarked</th>\n",
       "    </tr>\n",
       "  </thead>\n",
       "  <tbody>\n",
       "    <tr>\n",
       "      <th>475</th>\n",
       "      <td>476</td>\n",
       "      <td>0</td>\n",
       "      <td>1</td>\n",
       "      <td>Clifford, Mr. George Quincy</td>\n",
       "      <td>male</td>\n",
       "      <td>NaN</td>\n",
       "      <td>0</td>\n",
       "      <td>0</td>\n",
       "      <td>110465</td>\n",
       "      <td>52.0000</td>\n",
       "      <td>A14</td>\n",
       "      <td>S</td>\n",
       "    </tr>\n",
       "    <tr>\n",
       "      <th>881</th>\n",
       "      <td>882</td>\n",
       "      <td>0</td>\n",
       "      <td>3</td>\n",
       "      <td>Markun, Mr. Johann</td>\n",
       "      <td>male</td>\n",
       "      <td>33.0</td>\n",
       "      <td>0</td>\n",
       "      <td>0</td>\n",
       "      <td>349257</td>\n",
       "      <td>7.8958</td>\n",
       "      <td>NaN</td>\n",
       "      <td>S</td>\n",
       "    </tr>\n",
       "    <tr>\n",
       "      <th>242</th>\n",
       "      <td>243</td>\n",
       "      <td>0</td>\n",
       "      <td>2</td>\n",
       "      <td>Coleridge, Mr. Reginald Charles</td>\n",
       "      <td>male</td>\n",
       "      <td>29.0</td>\n",
       "      <td>0</td>\n",
       "      <td>0</td>\n",
       "      <td>W./C. 14263</td>\n",
       "      <td>10.5000</td>\n",
       "      <td>NaN</td>\n",
       "      <td>S</td>\n",
       "    </tr>\n",
       "    <tr>\n",
       "      <th>119</th>\n",
       "      <td>120</td>\n",
       "      <td>0</td>\n",
       "      <td>3</td>\n",
       "      <td>Andersson, Miss. Ellis Anna Maria</td>\n",
       "      <td>female</td>\n",
       "      <td>2.0</td>\n",
       "      <td>4</td>\n",
       "      <td>2</td>\n",
       "      <td>347082</td>\n",
       "      <td>31.2750</td>\n",
       "      <td>NaN</td>\n",
       "      <td>S</td>\n",
       "    </tr>\n",
       "    <tr>\n",
       "      <th>388</th>\n",
       "      <td>389</td>\n",
       "      <td>0</td>\n",
       "      <td>3</td>\n",
       "      <td>Sadlier, Mr. Matthew</td>\n",
       "      <td>male</td>\n",
       "      <td>NaN</td>\n",
       "      <td>0</td>\n",
       "      <td>0</td>\n",
       "      <td>367655</td>\n",
       "      <td>7.7292</td>\n",
       "      <td>NaN</td>\n",
       "      <td>Q</td>\n",
       "    </tr>\n",
       "    <tr>\n",
       "      <th>725</th>\n",
       "      <td>726</td>\n",
       "      <td>0</td>\n",
       "      <td>3</td>\n",
       "      <td>Oreskovic, Mr. Luka</td>\n",
       "      <td>male</td>\n",
       "      <td>20.0</td>\n",
       "      <td>0</td>\n",
       "      <td>0</td>\n",
       "      <td>315094</td>\n",
       "      <td>8.6625</td>\n",
       "      <td>NaN</td>\n",
       "      <td>S</td>\n",
       "    </tr>\n",
       "    <tr>\n",
       "      <th>298</th>\n",
       "      <td>299</td>\n",
       "      <td>1</td>\n",
       "      <td>1</td>\n",
       "      <td>Saalfeld, Mr. Adolphe</td>\n",
       "      <td>male</td>\n",
       "      <td>NaN</td>\n",
       "      <td>0</td>\n",
       "      <td>0</td>\n",
       "      <td>19988</td>\n",
       "      <td>30.5000</td>\n",
       "      <td>C106</td>\n",
       "      <td>S</td>\n",
       "    </tr>\n",
       "    <tr>\n",
       "      <th>721</th>\n",
       "      <td>722</td>\n",
       "      <td>0</td>\n",
       "      <td>3</td>\n",
       "      <td>Jensen, Mr. Svend Lauritz</td>\n",
       "      <td>male</td>\n",
       "      <td>17.0</td>\n",
       "      <td>1</td>\n",
       "      <td>0</td>\n",
       "      <td>350048</td>\n",
       "      <td>7.0542</td>\n",
       "      <td>NaN</td>\n",
       "      <td>S</td>\n",
       "    </tr>\n",
       "    <tr>\n",
       "      <th>809</th>\n",
       "      <td>810</td>\n",
       "      <td>1</td>\n",
       "      <td>1</td>\n",
       "      <td>Chambers, Mrs. Norman Campbell (Bertha Griggs)</td>\n",
       "      <td>female</td>\n",
       "      <td>33.0</td>\n",
       "      <td>1</td>\n",
       "      <td>0</td>\n",
       "      <td>113806</td>\n",
       "      <td>53.1000</td>\n",
       "      <td>E8</td>\n",
       "      <td>S</td>\n",
       "    </tr>\n",
       "    <tr>\n",
       "      <th>789</th>\n",
       "      <td>790</td>\n",
       "      <td>0</td>\n",
       "      <td>1</td>\n",
       "      <td>Guggenheim, Mr. Benjamin</td>\n",
       "      <td>male</td>\n",
       "      <td>46.0</td>\n",
       "      <td>0</td>\n",
       "      <td>0</td>\n",
       "      <td>PC 17593</td>\n",
       "      <td>79.2000</td>\n",
       "      <td>B82 B84</td>\n",
       "      <td>C</td>\n",
       "    </tr>\n",
       "  </tbody>\n",
       "</table>\n",
       "</div>"
      ],
      "text/plain": [
       "     PassengerId  Survived  Pclass  \\\n",
       "475          476         0       1   \n",
       "881          882         0       3   \n",
       "242          243         0       2   \n",
       "119          120         0       3   \n",
       "388          389         0       3   \n",
       "725          726         0       3   \n",
       "298          299         1       1   \n",
       "721          722         0       3   \n",
       "809          810         1       1   \n",
       "789          790         0       1   \n",
       "\n",
       "                                               Name     Sex   Age  SibSp  \\\n",
       "475                     Clifford, Mr. George Quincy    male   NaN      0   \n",
       "881                              Markun, Mr. Johann    male  33.0      0   \n",
       "242                 Coleridge, Mr. Reginald Charles    male  29.0      0   \n",
       "119               Andersson, Miss. Ellis Anna Maria  female   2.0      4   \n",
       "388                            Sadlier, Mr. Matthew    male   NaN      0   \n",
       "725                             Oreskovic, Mr. Luka    male  20.0      0   \n",
       "298                           Saalfeld, Mr. Adolphe    male   NaN      0   \n",
       "721                       Jensen, Mr. Svend Lauritz    male  17.0      1   \n",
       "809  Chambers, Mrs. Norman Campbell (Bertha Griggs)  female  33.0      1   \n",
       "789                        Guggenheim, Mr. Benjamin    male  46.0      0   \n",
       "\n",
       "     Parch       Ticket     Fare    Cabin Embarked  \n",
       "475      0       110465  52.0000      A14        S  \n",
       "881      0       349257   7.8958      NaN        S  \n",
       "242      0  W./C. 14263  10.5000      NaN        S  \n",
       "119      2       347082  31.2750      NaN        S  \n",
       "388      0       367655   7.7292      NaN        Q  \n",
       "725      0       315094   8.6625      NaN        S  \n",
       "298      0        19988  30.5000     C106        S  \n",
       "721      0       350048   7.0542      NaN        S  \n",
       "809      0       113806  53.1000       E8        S  \n",
       "789      0     PC 17593  79.2000  B82 B84        C  "
      ]
     },
     "execution_count": 2,
     "metadata": {},
     "output_type": "execute_result"
    }
   ],
   "source": [
    "#Sample of data\n",
    "#Gives random 10 data points from whole data\n",
    "df.sample(10)"
   ]
  },
  {
   "cell_type": "markdown",
   "id": "b14e1421",
   "metadata": {},
   "source": [
    "### Basic information about data – EDA\n",
    "- The df.info() function will give us the basic information about the dataset. \n",
    "- For any data, it is good to start by knowing its information such as data type, null values and many more.\n",
    "\n",
    "\n",
    "- df.describe() function Generate descriptive statistics.\n",
    "- Descriptive statistics include those that summarize the central tendency, dispersion and shape of a dataset's distribution, excluding ``NaN`` values."
   ]
  },
  {
   "cell_type": "code",
   "execution_count": 3,
   "id": "d33e7fc5",
   "metadata": {},
   "outputs": [
    {
     "name": "stdout",
     "output_type": "stream",
     "text": [
      "<class 'pandas.core.frame.DataFrame'>\n",
      "RangeIndex: 891 entries, 0 to 890\n",
      "Data columns (total 12 columns):\n",
      " #   Column       Non-Null Count  Dtype  \n",
      "---  ------       --------------  -----  \n",
      " 0   PassengerId  891 non-null    int64  \n",
      " 1   Survived     891 non-null    int64  \n",
      " 2   Pclass       891 non-null    int64  \n",
      " 3   Name         891 non-null    object \n",
      " 4   Sex          891 non-null    object \n",
      " 5   Age          714 non-null    float64\n",
      " 6   SibSp        891 non-null    int64  \n",
      " 7   Parch        891 non-null    int64  \n",
      " 8   Ticket       891 non-null    object \n",
      " 9   Fare         891 non-null    float64\n",
      " 10  Cabin        204 non-null    object \n",
      " 11  Embarked     889 non-null    object \n",
      "dtypes: float64(2), int64(5), object(5)\n",
      "memory usage: 83.7+ KB\n"
     ]
    }
   ],
   "source": [
    "#Basic information\n",
    "df.info()"
   ]
  },
  {
   "cell_type": "code",
   "execution_count": 4,
   "id": "dc8023bf",
   "metadata": {},
   "outputs": [
    {
     "data": {
      "text/html": [
       "<div>\n",
       "<style scoped>\n",
       "    .dataframe tbody tr th:only-of-type {\n",
       "        vertical-align: middle;\n",
       "    }\n",
       "\n",
       "    .dataframe tbody tr th {\n",
       "        vertical-align: top;\n",
       "    }\n",
       "\n",
       "    .dataframe thead th {\n",
       "        text-align: right;\n",
       "    }\n",
       "</style>\n",
       "<table border=\"1\" class=\"dataframe\">\n",
       "  <thead>\n",
       "    <tr style=\"text-align: right;\">\n",
       "      <th></th>\n",
       "      <th>Age</th>\n",
       "      <th>Fare</th>\n",
       "    </tr>\n",
       "  </thead>\n",
       "  <tbody>\n",
       "    <tr>\n",
       "      <th>count</th>\n",
       "      <td>714.000000</td>\n",
       "      <td>891.000000</td>\n",
       "    </tr>\n",
       "    <tr>\n",
       "      <th>mean</th>\n",
       "      <td>29.699118</td>\n",
       "      <td>32.204208</td>\n",
       "    </tr>\n",
       "    <tr>\n",
       "      <th>std</th>\n",
       "      <td>14.526497</td>\n",
       "      <td>49.693429</td>\n",
       "    </tr>\n",
       "    <tr>\n",
       "      <th>min</th>\n",
       "      <td>0.420000</td>\n",
       "      <td>0.000000</td>\n",
       "    </tr>\n",
       "    <tr>\n",
       "      <th>25%</th>\n",
       "      <td>20.125000</td>\n",
       "      <td>7.910400</td>\n",
       "    </tr>\n",
       "    <tr>\n",
       "      <th>50%</th>\n",
       "      <td>28.000000</td>\n",
       "      <td>14.454200</td>\n",
       "    </tr>\n",
       "    <tr>\n",
       "      <th>75%</th>\n",
       "      <td>38.000000</td>\n",
       "      <td>31.000000</td>\n",
       "    </tr>\n",
       "    <tr>\n",
       "      <th>max</th>\n",
       "      <td>80.000000</td>\n",
       "      <td>512.329200</td>\n",
       "    </tr>\n",
       "  </tbody>\n",
       "</table>\n",
       "</div>"
      ],
      "text/plain": [
       "              Age        Fare\n",
       "count  714.000000  891.000000\n",
       "mean    29.699118   32.204208\n",
       "std     14.526497   49.693429\n",
       "min      0.420000    0.000000\n",
       "25%     20.125000    7.910400\n",
       "50%     28.000000   14.454200\n",
       "75%     38.000000   31.000000\n",
       "max     80.000000  512.329200"
      ]
     },
     "execution_count": 4,
     "metadata": {},
     "output_type": "execute_result"
    }
   ],
   "source": [
    "#Describe the data\n",
    "df.describe(include=\"float64\")"
   ]
  },
  {
   "cell_type": "code",
   "execution_count": 5,
   "id": "4a66d181",
   "metadata": {},
   "outputs": [
    {
     "data": {
      "text/html": [
       "<div>\n",
       "<style scoped>\n",
       "    .dataframe tbody tr th:only-of-type {\n",
       "        vertical-align: middle;\n",
       "    }\n",
       "\n",
       "    .dataframe tbody tr th {\n",
       "        vertical-align: top;\n",
       "    }\n",
       "\n",
       "    .dataframe thead th {\n",
       "        text-align: right;\n",
       "    }\n",
       "</style>\n",
       "<table border=\"1\" class=\"dataframe\">\n",
       "  <thead>\n",
       "    <tr style=\"text-align: right;\">\n",
       "      <th></th>\n",
       "      <th>PassengerId</th>\n",
       "      <th>Survived</th>\n",
       "      <th>Pclass</th>\n",
       "      <th>SibSp</th>\n",
       "      <th>Parch</th>\n",
       "    </tr>\n",
       "  </thead>\n",
       "  <tbody>\n",
       "    <tr>\n",
       "      <th>count</th>\n",
       "      <td>891.000000</td>\n",
       "      <td>891.000000</td>\n",
       "      <td>891.000000</td>\n",
       "      <td>891.000000</td>\n",
       "      <td>891.000000</td>\n",
       "    </tr>\n",
       "    <tr>\n",
       "      <th>mean</th>\n",
       "      <td>446.000000</td>\n",
       "      <td>0.383838</td>\n",
       "      <td>2.308642</td>\n",
       "      <td>0.523008</td>\n",
       "      <td>0.381594</td>\n",
       "    </tr>\n",
       "    <tr>\n",
       "      <th>std</th>\n",
       "      <td>257.353842</td>\n",
       "      <td>0.486592</td>\n",
       "      <td>0.836071</td>\n",
       "      <td>1.102743</td>\n",
       "      <td>0.806057</td>\n",
       "    </tr>\n",
       "    <tr>\n",
       "      <th>min</th>\n",
       "      <td>1.000000</td>\n",
       "      <td>0.000000</td>\n",
       "      <td>1.000000</td>\n",
       "      <td>0.000000</td>\n",
       "      <td>0.000000</td>\n",
       "    </tr>\n",
       "    <tr>\n",
       "      <th>25%</th>\n",
       "      <td>223.500000</td>\n",
       "      <td>0.000000</td>\n",
       "      <td>2.000000</td>\n",
       "      <td>0.000000</td>\n",
       "      <td>0.000000</td>\n",
       "    </tr>\n",
       "    <tr>\n",
       "      <th>50%</th>\n",
       "      <td>446.000000</td>\n",
       "      <td>0.000000</td>\n",
       "      <td>3.000000</td>\n",
       "      <td>0.000000</td>\n",
       "      <td>0.000000</td>\n",
       "    </tr>\n",
       "    <tr>\n",
       "      <th>75%</th>\n",
       "      <td>668.500000</td>\n",
       "      <td>1.000000</td>\n",
       "      <td>3.000000</td>\n",
       "      <td>1.000000</td>\n",
       "      <td>0.000000</td>\n",
       "    </tr>\n",
       "    <tr>\n",
       "      <th>max</th>\n",
       "      <td>891.000000</td>\n",
       "      <td>1.000000</td>\n",
       "      <td>3.000000</td>\n",
       "      <td>8.000000</td>\n",
       "      <td>6.000000</td>\n",
       "    </tr>\n",
       "  </tbody>\n",
       "</table>\n",
       "</div>"
      ],
      "text/plain": [
       "       PassengerId    Survived      Pclass       SibSp       Parch\n",
       "count   891.000000  891.000000  891.000000  891.000000  891.000000\n",
       "mean    446.000000    0.383838    2.308642    0.523008    0.381594\n",
       "std     257.353842    0.486592    0.836071    1.102743    0.806057\n",
       "min       1.000000    0.000000    1.000000    0.000000    0.000000\n",
       "25%     223.500000    0.000000    2.000000    0.000000    0.000000\n",
       "50%     446.000000    0.000000    3.000000    0.000000    0.000000\n",
       "75%     668.500000    1.000000    3.000000    1.000000    0.000000\n",
       "max     891.000000    1.000000    3.000000    8.000000    6.000000"
      ]
     },
     "execution_count": 5,
     "metadata": {},
     "output_type": "execute_result"
    }
   ],
   "source": [
    "df.describe(include=\"int64\")"
   ]
  },
  {
   "cell_type": "code",
   "execution_count": 6,
   "id": "8f2817ca",
   "metadata": {},
   "outputs": [
    {
     "data": {
      "text/html": [
       "<div>\n",
       "<style scoped>\n",
       "    .dataframe tbody tr th:only-of-type {\n",
       "        vertical-align: middle;\n",
       "    }\n",
       "\n",
       "    .dataframe tbody tr th {\n",
       "        vertical-align: top;\n",
       "    }\n",
       "\n",
       "    .dataframe thead th {\n",
       "        text-align: right;\n",
       "    }\n",
       "</style>\n",
       "<table border=\"1\" class=\"dataframe\">\n",
       "  <thead>\n",
       "    <tr style=\"text-align: right;\">\n",
       "      <th></th>\n",
       "      <th>Name</th>\n",
       "      <th>Sex</th>\n",
       "      <th>Ticket</th>\n",
       "      <th>Cabin</th>\n",
       "      <th>Embarked</th>\n",
       "    </tr>\n",
       "  </thead>\n",
       "  <tbody>\n",
       "    <tr>\n",
       "      <th>count</th>\n",
       "      <td>891</td>\n",
       "      <td>891</td>\n",
       "      <td>891</td>\n",
       "      <td>204</td>\n",
       "      <td>889</td>\n",
       "    </tr>\n",
       "    <tr>\n",
       "      <th>unique</th>\n",
       "      <td>891</td>\n",
       "      <td>2</td>\n",
       "      <td>681</td>\n",
       "      <td>147</td>\n",
       "      <td>3</td>\n",
       "    </tr>\n",
       "    <tr>\n",
       "      <th>top</th>\n",
       "      <td>Braund, Mr. Owen Harris</td>\n",
       "      <td>male</td>\n",
       "      <td>347082</td>\n",
       "      <td>B96 B98</td>\n",
       "      <td>S</td>\n",
       "    </tr>\n",
       "    <tr>\n",
       "      <th>freq</th>\n",
       "      <td>1</td>\n",
       "      <td>577</td>\n",
       "      <td>7</td>\n",
       "      <td>4</td>\n",
       "      <td>644</td>\n",
       "    </tr>\n",
       "  </tbody>\n",
       "</table>\n",
       "</div>"
      ],
      "text/plain": [
       "                           Name   Sex  Ticket    Cabin Embarked\n",
       "count                       891   891     891      204      889\n",
       "unique                      891     2     681      147        3\n",
       "top     Braund, Mr. Owen Harris  male  347082  B96 B98        S\n",
       "freq                          1   577       7        4      644"
      ]
     },
     "execution_count": 6,
     "metadata": {},
     "output_type": "execute_result"
    }
   ],
   "source": [
    "df.describe(include=\"object\")"
   ]
  },
  {
   "cell_type": "markdown",
   "id": "16baca09",
   "metadata": {},
   "source": [
    "### Duplicate values\n",
    "\n",
    "- We can use the df.duplicate.sum() function to the sum of duplicate value present if any. \n",
    "- It will show the number of duplicate values if they are present in the data."
   ]
  },
  {
   "cell_type": "code",
   "execution_count": 7,
   "id": "1ccd65f4",
   "metadata": {},
   "outputs": [
    {
     "data": {
      "text/plain": [
       "0"
      ]
     },
     "execution_count": 7,
     "metadata": {},
     "output_type": "execute_result"
    }
   ],
   "source": [
    "#Find the duplicates \n",
    "df.duplicated().sum()"
   ]
  },
  {
   "cell_type": "markdown",
   "id": "fd1cbc33",
   "metadata": {},
   "source": [
    "#### No duplicate value is present."
   ]
  },
  {
   "cell_type": "markdown",
   "id": "c4a7e35f",
   "metadata": {},
   "source": [
    "### Find the Null values\n",
    "- Finding the null values is the most important step in the EDA. \n",
    "- As it is told many a time, ensuring the quality of data is paramount. \n",
    "- So, let’s see how we can find the null values."
   ]
  },
  {
   "cell_type": "code",
   "execution_count": 8,
   "id": "d875cb18",
   "metadata": {},
   "outputs": [
    {
     "data": {
      "text/plain": [
       "PassengerId      0\n",
       "Survived         0\n",
       "Pclass           0\n",
       "Name             0\n",
       "Sex              0\n",
       "Age            177\n",
       "SibSp            0\n",
       "Parch            0\n",
       "Ticket           0\n",
       "Fare             0\n",
       "Cabin          687\n",
       "Embarked         2\n",
       "dtype: int64"
      ]
     },
     "execution_count": 8,
     "metadata": {},
     "output_type": "execute_result"
    }
   ],
   "source": [
    "df.isnull().sum()"
   ]
  },
  {
   "cell_type": "code",
   "execution_count": 9,
   "id": "d4748b95",
   "metadata": {},
   "outputs": [
    {
     "data": {
      "text/plain": [
       "<AxesSubplot:>"
      ]
     },
     "execution_count": 9,
     "metadata": {},
     "output_type": "execute_result"
    },
    {
     "data": {
      "image/png": "[encoded data removed]",
      "text/plain": [
       "<Figure size 576x432 with 1 Axes>"
      ]
     },
     "metadata": {
      "needs_background": "light"
     },
     "output_type": "display_data"
    }
   ],
   "source": [
    "#We can also try heat map to visualize null values\n",
    "plt.figure(figsize=(8,6))\n",
    "sns.heatmap(df.isnull(), cbar= False)"
   ]
  },
  {
   "cell_type": "markdown",
   "id": "25cedb2b",
   "metadata": {},
   "source": [
    "- Clearly visible form heat map and python code that we have null values in Age and Cabin attributes."
   ]
  },
  {
   "cell_type": "markdown",
   "id": "9633f7d3",
   "metadata": {},
   "source": [
    "### Graphical Method for Univariate Analysis"
   ]
  },
  {
   "cell_type": "markdown",
   "id": "b302de19",
   "metadata": {},
   "source": [
    "## 1. Categorical Data"
   ]
  },
  {
   "cell_type": "code",
   "execution_count": 10,
   "id": "34d6cb00",
   "metadata": {},
   "outputs": [
    {
     "name": "stdout",
     "output_type": "stream",
     "text": [
      "<class 'pandas.core.frame.DataFrame'>\n",
      "RangeIndex: 891 entries, 0 to 890\n",
      "Data columns (total 12 columns):\n",
      " #   Column       Non-Null Count  Dtype  \n",
      "---  ------       --------------  -----  \n",
      " 0   PassengerId  891 non-null    int64  \n",
      " 1   Survived     891 non-null    int64  \n",
      " 2   Pclass       891 non-null    int64  \n",
      " 3   Name         891 non-null    object \n",
      " 4   Sex          891 non-null    object \n",
      " 5   Age          714 non-null    float64\n",
      " 6   SibSp        891 non-null    int64  \n",
      " 7   Parch        891 non-null    int64  \n",
      " 8   Ticket       891 non-null    object \n",
      " 9   Fare         891 non-null    float64\n",
      " 10  Cabin        204 non-null    object \n",
      " 11  Embarked     889 non-null    object \n",
      "dtypes: float64(2), int64(5), object(5)\n",
      "memory usage: 83.7+ KB\n"
     ]
    }
   ],
   "source": [
    "df.info()"
   ]
  },
  {
   "cell_type": "code",
   "execution_count": 11,
   "id": "b48607e0",
   "metadata": {},
   "outputs": [
    {
     "name": "stdout",
     "output_type": "stream",
     "text": [
      "Number of people survived: 549\n",
      "Number of people died: 342\n"
     ]
    }
   ],
   "source": [
    "x = df[\"Survived\"].value_counts()[0]\n",
    "y = df[\"Survived\"].value_counts()[1]\n",
    "\n",
    "print(f\"Number of people survived: {x}\")\n",
    "print(f\"Number of people died: {y}\")"
   ]
  },
  {
   "cell_type": "code",
   "execution_count": 12,
   "id": "0a81c680",
   "metadata": {},
   "outputs": [
    {
     "name": "stdout",
     "output_type": "stream",
     "text": [
      "Number of male passenger: 577\n",
      "Number of female passenger: 314\n"
     ]
    }
   ],
   "source": [
    "male = df[\"Sex\"].value_counts()[0]\n",
    "female = df[\"Sex\"].value_counts()[1]\n",
    "\n",
    "print(f\"Number of male passenger: {male}\")\n",
    "print(f\"Number of female passenger: {female}\")"
   ]
  },
  {
   "cell_type": "code",
   "execution_count": 13,
   "id": "4671910f",
   "metadata": {},
   "outputs": [
    {
     "data": {
      "text/plain": [
       "216"
      ]
     },
     "execution_count": 13,
     "metadata": {},
     "output_type": "execute_result"
    }
   ],
   "source": [
    "df[\"Pclass\"].value_counts()[1]"
   ]
  },
  {
   "cell_type": "code",
   "execution_count": 14,
   "id": "e4c9e063",
   "metadata": {},
   "outputs": [
    {
     "name": "stdout",
     "output_type": "stream",
     "text": [
      "Number of 1st class passenger: 216\n",
      "Number of 2nd class passenger: 184\n",
      "Number of 3rd class passenger: 491\n"
     ]
    }
   ],
   "source": [
    "first_class = df[\"Pclass\"].value_counts()[1]\n",
    "second_class = df[\"Pclass\"].value_counts()[2]\n",
    "third_class = df[\"Pclass\"].value_counts()[3]\n",
    "\n",
    "\n",
    "print(f\"Number of 1st class passenger: {first_class}\")\n",
    "print(f\"Number of 2nd class passenger: {second_class}\")\n",
    "print(f\"Number of 3rd class passenger: {third_class}\")"
   ]
  },
  {
   "cell_type": "code",
   "execution_count": 15,
   "id": "cdc76fc1",
   "metadata": {},
   "outputs": [
    {
     "data": {
      "text/plain": [
       "S    644\n",
       "C    168\n",
       "Q     77\n",
       "Name: Embarked, dtype: int64"
      ]
     },
     "execution_count": 15,
     "metadata": {},
     "output_type": "execute_result"
    }
   ],
   "source": [
    "df[\"Embarked\"].value_counts()"
   ]
  },
  {
   "cell_type": "code",
   "execution_count": 16,
   "id": "baa9e948",
   "metadata": {},
   "outputs": [
    {
     "name": "stdout",
     "output_type": "stream",
     "text": [
      "Number of passenger embarked from Southampton: 644\n",
      "Number of passenger embarked from Cherbough: 168\n",
      "Number of passenger embarked from Queenstown: 77\n"
     ]
    }
   ],
   "source": [
    "s_embark = df[\"Embarked\"].value_counts()[0]\n",
    "c_embark = df[\"Embarked\"].value_counts()[1]\n",
    "q_embark = df[\"Embarked\"].value_counts()[2]\n",
    "\n",
    "\n",
    "print(f\"Number of passenger embarked from Southampton: {s_embark}\")\n",
    "print(f\"Number of passenger embarked from Cherbough: {c_embark}\")\n",
    "print(f\"Number of passenger embarked from Queenstown: {q_embark}\")"
   ]
  },
  {
   "cell_type": "markdown",
   "id": "f2a776dc",
   "metadata": {},
   "source": [
    "### a. Countplot\n",
    "\n",
    "- Countplot to plot count of each category of categorical feature"
   ]
  },
  {
   "cell_type": "code",
   "execution_count": 17,
   "id": "f8284911",
   "metadata": {},
   "outputs": [],
   "source": [
    "import warnings\n",
    "warnings.filterwarnings(\"ignore\")"
   ]
  },
  {
   "cell_type": "code",
   "execution_count": 19,
   "id": "25f78094",
   "metadata": {},
   "outputs": [
    {
     "data": {
      "image/png": "[encoded data removed]",
      "text/plain": [
       "<Figure size 842.4x595.44 with 4 Axes>"
      ]
     },
     "metadata": {},
     "output_type": "display_data"
    }
   ],
   "source": [
    "# define dimensions of subplots (rows, columns)\n",
    "fig, axes = plt.subplots(2, 2)\n",
    "\n",
    "# set seaborn ascetic\n",
    "sns.set(rc={'figure.figsize':(11.7,8.27)})\n",
    "\n",
    "# create chart in each subplot\n",
    "p1 = sns.countplot(df[\"Survived\"], ax=axes[0,0])\n",
    "p2 = sns.countplot(df[\"Pclass\"], ax=axes[0,1])\n",
    "p3 = sns.countplot(df[\"Embarked\"], ax=axes[1,0])\n",
    "p4 = sns.countplot(df[\"Sex\"], ax=axes[1,1])"
   ]
  },
  {
   "cell_type": "markdown",
   "id": "69d9e8b3",
   "metadata": {},
   "source": [
    "### b. Pie Chart\n",
    "\n",
    "- For getting percentage of each category of a categorical feature, we can make use of pie chat."
   ]
  },
  {
   "cell_type": "code",
   "execution_count": 20,
   "id": "b006724c",
   "metadata": {},
   "outputs": [
    {
     "data": {
      "image/png": "[encoded data removed]",
      "text/plain": [
       "<Figure size 720x720 with 4 Axes>"
      ]
     },
     "metadata": {},
     "output_type": "display_data"
    }
   ],
   "source": [
    "# set figure size for plot\n",
    "plt.figure(figsize=(10,10))\n",
    "\n",
    "# first plot\n",
    "plt.subplot(2,2,1)\n",
    "plt.pie(df[\"Survived\"].value_counts(), autopct='%.2f')\n",
    "plt.title(\"Survived\")\n",
    "\n",
    "# second plot\n",
    "plt.subplot(2,2,2)\n",
    "plt.pie(df[\"Sex\"].value_counts(), autopct='%.2f')\n",
    "plt.title(\"Sex\")\n",
    "\n",
    "# third plot\n",
    "plt.subplot(2,2,3)\n",
    "plt.pie(df[\"Pclass\"].value_counts(), autopct='%.2f')\n",
    "plt.title(\"Pclass\")\n",
    "\n",
    "# fourth plot\n",
    "plt.subplot(2,2,4)\n",
    "plt.pie(df[\"Embarked\"].value_counts(), autopct='%.2f')\n",
    "plt.title(\"Embarked\")\n",
    "\n",
    "# to plot\n",
    "plt.show()"
   ]
  },
  {
   "cell_type": "markdown",
   "id": "3dba555a",
   "metadata": {},
   "source": [
    "## Numerical Data"
   ]
  },
  {
   "cell_type": "markdown",
   "id": "d4ba4771",
   "metadata": {},
   "source": [
    "### a. Histogram\n",
    "\n",
    "- A great way to get started exploring a single variable is with the histogram. A histogram divides the variable into bins, counts the data points in each bin, and shows the bins on the x-axis and the counts on the y-axis."
   ]
  },
  {
   "cell_type": "markdown",
   "id": "1dc1f5d3",
   "metadata": {},
   "source": [
    "#### Age Attribute:"
   ]
  },
  {
   "cell_type": "code",
   "execution_count": 28,
   "id": "892169a5",
   "metadata": {},
   "outputs": [
    {
     "data": {
      "text/plain": [
       "count    714.000000\n",
       "mean      29.699118\n",
       "std       14.526497\n",
       "min        0.420000\n",
       "25%       20.125000\n",
       "50%       28.000000\n",
       "75%       38.000000\n",
       "max       80.000000\n",
       "Name: Age, dtype: float64"
      ]
     },
     "execution_count": 28,
     "metadata": {},
     "output_type": "execute_result"
    }
   ],
   "source": [
    "df[\"Age\"].describe()"
   ]
  },
  {
   "cell_type": "code",
   "execution_count": 29,
   "id": "c90cb00e",
   "metadata": {},
   "outputs": [
    {
     "data": {
      "text/plain": [
       "0.38910778230082704"
      ]
     },
     "execution_count": 29,
     "metadata": {},
     "output_type": "execute_result"
    }
   ],
   "source": [
    "# A skewness value greater than 1 or less than -1 indicates a highly skewed distribution. \n",
    "# A value between 0.5 and 1 or -0.5 and -1 is moderately skewed. \n",
    "# A value between -0.5 and 0.5 indicates that the distribution is fairly symmetrical.\n",
    "\n",
    "df[\"Age\"].skew()"
   ]
  },
  {
   "cell_type": "code",
   "execution_count": 40,
   "id": "2545c181",
   "metadata": {},
   "outputs": [
    {
     "data": {
      "image/png": "[encoded data removed]",
      "text/plain": [
       "<Figure size 842.4x595.44 with 1 Axes>"
      ]
     },
     "metadata": {},
     "output_type": "display_data"
    }
   ],
   "source": [
    "plt.hist(df[\"Age\"])\n",
    "plt.show()"
   ]
  },
  {
   "cell_type": "markdown",
   "id": "391edb1a",
   "metadata": {},
   "source": [
    "### b. Distribution Plot"
   ]
  },
  {
   "cell_type": "code",
   "execution_count": 30,
   "id": "1b493512",
   "metadata": {},
   "outputs": [
    {
     "data": {
      "image/png": "[encoded data removed]",
      "text/plain": [
       "<Figure size 842.4x595.44 with 1 Axes>"
      ]
     },
     "metadata": {},
     "output_type": "display_data"
    }
   ],
   "source": [
    "sns.distplot(df[\"Age\"])\n",
    "plt.show()"
   ]
  },
  {
   "cell_type": "markdown",
   "id": "3b21e392",
   "metadata": {},
   "source": [
    "### c. Boxplot\n",
    "- Boxplot is a method for graphically demonstrating the locality, spread and skewness groups of numerical data through their quartiles. \n",
    "- Very useful for finding outliers in numerical data."
   ]
  },
  {
   "attachments": {
    "boxplot.png": {
     "image/png": "[encoded data removed]"
    }
   },
   "cell_type": "markdown",
   "id": "6a70e6bb",
   "metadata": {},
   "source": [
    "![boxplot.png](attachment:boxplot.png)"
   ]
  },
  {
   "cell_type": "code",
   "execution_count": 51,
   "id": "cb661185",
   "metadata": {},
   "outputs": [
    {
     "data": {
      "image/png": "[encoded data removed]",
      "text/plain": [
       "<Figure size 842.4x595.44 with 1 Axes>"
      ]
     },
     "metadata": {},
     "output_type": "display_data"
    }
   ],
   "source": [
    "sns.boxplot(df[\"Age\"])\n",
    "plt.show()"
   ]
  },
  {
   "cell_type": "markdown",
   "id": "8c2f7193",
   "metadata": {},
   "source": [
    "#### Fare Attribute:"
   ]
  },
  {
   "cell_type": "code",
   "execution_count": 41,
   "id": "d75d8074",
   "metadata": {},
   "outputs": [
    {
     "data": {
      "text/plain": [
       "count    891.000000\n",
       "mean      32.204208\n",
       "std       49.693429\n",
       "min        0.000000\n",
       "25%        7.910400\n",
       "50%       14.454200\n",
       "75%       31.000000\n",
       "max      512.329200\n",
       "Name: Fare, dtype: float64"
      ]
     },
     "execution_count": 41,
     "metadata": {},
     "output_type": "execute_result"
    }
   ],
   "source": [
    "df[\"Fare\"].describe()"
   ]
  },
  {
   "cell_type": "markdown",
   "id": "24526587",
   "metadata": {},
   "source": [
    "- Minimum fare is zero, which is not sounding good. Lets try to find out why it is so.\n",
    "\n",
    "- It may possible that because of wrong entry."
   ]
  },
  {
   "cell_type": "code",
   "execution_count": 46,
   "id": "915229f1",
   "metadata": {},
   "outputs": [
    {
     "data": {
      "text/html": [
       "<div>\n",
       "<style scoped>\n",
       "    .dataframe tbody tr th:only-of-type {\n",
       "        vertical-align: middle;\n",
       "    }\n",
       "\n",
       "    .dataframe tbody tr th {\n",
       "        vertical-align: top;\n",
       "    }\n",
       "\n",
       "    .dataframe thead th {\n",
       "        text-align: right;\n",
       "    }\n",
       "</style>\n",
       "<table border=\"1\" class=\"dataframe\">\n",
       "  <thead>\n",
       "    <tr style=\"text-align: right;\">\n",
       "      <th></th>\n",
       "      <th>PassengerId</th>\n",
       "      <th>Survived</th>\n",
       "      <th>Pclass</th>\n",
       "      <th>Name</th>\n",
       "      <th>Sex</th>\n",
       "      <th>Age</th>\n",
       "      <th>SibSp</th>\n",
       "      <th>Parch</th>\n",
       "      <th>Ticket</th>\n",
       "      <th>Fare</th>\n",
       "      <th>Cabin</th>\n",
       "      <th>Embarked</th>\n",
       "    </tr>\n",
       "  </thead>\n",
       "  <tbody>\n",
       "    <tr>\n",
       "      <th>179</th>\n",
       "      <td>180</td>\n",
       "      <td>0</td>\n",
       "      <td>3</td>\n",
       "      <td>Leonard, Mr. Lionel</td>\n",
       "      <td>male</td>\n",
       "      <td>36.0</td>\n",
       "      <td>0</td>\n",
       "      <td>0</td>\n",
       "      <td>LINE</td>\n",
       "      <td>0.0</td>\n",
       "      <td>NaN</td>\n",
       "      <td>S</td>\n",
       "    </tr>\n",
       "    <tr>\n",
       "      <th>263</th>\n",
       "      <td>264</td>\n",
       "      <td>0</td>\n",
       "      <td>1</td>\n",
       "      <td>Harrison, Mr. William</td>\n",
       "      <td>male</td>\n",
       "      <td>40.0</td>\n",
       "      <td>0</td>\n",
       "      <td>0</td>\n",
       "      <td>112059</td>\n",
       "      <td>0.0</td>\n",
       "      <td>B94</td>\n",
       "      <td>S</td>\n",
       "    </tr>\n",
       "    <tr>\n",
       "      <th>271</th>\n",
       "      <td>272</td>\n",
       "      <td>1</td>\n",
       "      <td>3</td>\n",
       "      <td>Tornquist, Mr. William Henry</td>\n",
       "      <td>male</td>\n",
       "      <td>25.0</td>\n",
       "      <td>0</td>\n",
       "      <td>0</td>\n",
       "      <td>LINE</td>\n",
       "      <td>0.0</td>\n",
       "      <td>NaN</td>\n",
       "      <td>S</td>\n",
       "    </tr>\n",
       "    <tr>\n",
       "      <th>277</th>\n",
       "      <td>278</td>\n",
       "      <td>0</td>\n",
       "      <td>2</td>\n",
       "      <td>Parkes, Mr. Francis \"Frank\"</td>\n",
       "      <td>male</td>\n",
       "      <td>NaN</td>\n",
       "      <td>0</td>\n",
       "      <td>0</td>\n",
       "      <td>239853</td>\n",
       "      <td>0.0</td>\n",
       "      <td>NaN</td>\n",
       "      <td>S</td>\n",
       "    </tr>\n",
       "    <tr>\n",
       "      <th>302</th>\n",
       "      <td>303</td>\n",
       "      <td>0</td>\n",
       "      <td>3</td>\n",
       "      <td>Johnson, Mr. William Cahoone Jr</td>\n",
       "      <td>male</td>\n",
       "      <td>19.0</td>\n",
       "      <td>0</td>\n",
       "      <td>0</td>\n",
       "      <td>LINE</td>\n",
       "      <td>0.0</td>\n",
       "      <td>NaN</td>\n",
       "      <td>S</td>\n",
       "    </tr>\n",
       "    <tr>\n",
       "      <th>413</th>\n",
       "      <td>414</td>\n",
       "      <td>0</td>\n",
       "      <td>2</td>\n",
       "      <td>Cunningham, Mr. Alfred Fleming</td>\n",
       "      <td>male</td>\n",
       "      <td>NaN</td>\n",
       "      <td>0</td>\n",
       "      <td>0</td>\n",
       "      <td>239853</td>\n",
       "      <td>0.0</td>\n",
       "      <td>NaN</td>\n",
       "      <td>S</td>\n",
       "    </tr>\n",
       "    <tr>\n",
       "      <th>466</th>\n",
       "      <td>467</td>\n",
       "      <td>0</td>\n",
       "      <td>2</td>\n",
       "      <td>Campbell, Mr. William</td>\n",
       "      <td>male</td>\n",
       "      <td>NaN</td>\n",
       "      <td>0</td>\n",
       "      <td>0</td>\n",
       "      <td>239853</td>\n",
       "      <td>0.0</td>\n",
       "      <td>NaN</td>\n",
       "      <td>S</td>\n",
       "    </tr>\n",
       "    <tr>\n",
       "      <th>481</th>\n",
       "      <td>482</td>\n",
       "      <td>0</td>\n",
       "      <td>2</td>\n",
       "      <td>Frost, Mr. Anthony Wood \"Archie\"</td>\n",
       "      <td>male</td>\n",
       "      <td>NaN</td>\n",
       "      <td>0</td>\n",
       "      <td>0</td>\n",
       "      <td>239854</td>\n",
       "      <td>0.0</td>\n",
       "      <td>NaN</td>\n",
       "      <td>S</td>\n",
       "    </tr>\n",
       "    <tr>\n",
       "      <th>597</th>\n",
       "      <td>598</td>\n",
       "      <td>0</td>\n",
       "      <td>3</td>\n",
       "      <td>Johnson, Mr. Alfred</td>\n",
       "      <td>male</td>\n",
       "      <td>49.0</td>\n",
       "      <td>0</td>\n",
       "      <td>0</td>\n",
       "      <td>LINE</td>\n",
       "      <td>0.0</td>\n",
       "      <td>NaN</td>\n",
       "      <td>S</td>\n",
       "    </tr>\n",
       "    <tr>\n",
       "      <th>633</th>\n",
       "      <td>634</td>\n",
       "      <td>0</td>\n",
       "      <td>1</td>\n",
       "      <td>Parr, Mr. William Henry Marsh</td>\n",
       "      <td>male</td>\n",
       "      <td>NaN</td>\n",
       "      <td>0</td>\n",
       "      <td>0</td>\n",
       "      <td>112052</td>\n",
       "      <td>0.0</td>\n",
       "      <td>NaN</td>\n",
       "      <td>S</td>\n",
       "    </tr>\n",
       "    <tr>\n",
       "      <th>674</th>\n",
       "      <td>675</td>\n",
       "      <td>0</td>\n",
       "      <td>2</td>\n",
       "      <td>Watson, Mr. Ennis Hastings</td>\n",
       "      <td>male</td>\n",
       "      <td>NaN</td>\n",
       "      <td>0</td>\n",
       "      <td>0</td>\n",
       "      <td>239856</td>\n",
       "      <td>0.0</td>\n",
       "      <td>NaN</td>\n",
       "      <td>S</td>\n",
       "    </tr>\n",
       "    <tr>\n",
       "      <th>732</th>\n",
       "      <td>733</td>\n",
       "      <td>0</td>\n",
       "      <td>2</td>\n",
       "      <td>Knight, Mr. Robert J</td>\n",
       "      <td>male</td>\n",
       "      <td>NaN</td>\n",
       "      <td>0</td>\n",
       "      <td>0</td>\n",
       "      <td>239855</td>\n",
       "      <td>0.0</td>\n",
       "      <td>NaN</td>\n",
       "      <td>S</td>\n",
       "    </tr>\n",
       "    <tr>\n",
       "      <th>806</th>\n",
       "      <td>807</td>\n",
       "      <td>0</td>\n",
       "      <td>1</td>\n",
       "      <td>Andrews, Mr. Thomas Jr</td>\n",
       "      <td>male</td>\n",
       "      <td>39.0</td>\n",
       "      <td>0</td>\n",
       "      <td>0</td>\n",
       "      <td>112050</td>\n",
       "      <td>0.0</td>\n",
       "      <td>A36</td>\n",
       "      <td>S</td>\n",
       "    </tr>\n",
       "    <tr>\n",
       "      <th>815</th>\n",
       "      <td>816</td>\n",
       "      <td>0</td>\n",
       "      <td>1</td>\n",
       "      <td>Fry, Mr. Richard</td>\n",
       "      <td>male</td>\n",
       "      <td>NaN</td>\n",
       "      <td>0</td>\n",
       "      <td>0</td>\n",
       "      <td>112058</td>\n",
       "      <td>0.0</td>\n",
       "      <td>B102</td>\n",
       "      <td>S</td>\n",
       "    </tr>\n",
       "    <tr>\n",
       "      <th>822</th>\n",
       "      <td>823</td>\n",
       "      <td>0</td>\n",
       "      <td>1</td>\n",
       "      <td>Reuchlin, Jonkheer. John George</td>\n",
       "      <td>male</td>\n",
       "      <td>38.0</td>\n",
       "      <td>0</td>\n",
       "      <td>0</td>\n",
       "      <td>19972</td>\n",
       "      <td>0.0</td>\n",
       "      <td>NaN</td>\n",
       "      <td>S</td>\n",
       "    </tr>\n",
       "  </tbody>\n",
       "</table>\n",
       "</div>"
      ],
      "text/plain": [
       "     PassengerId  Survived  Pclass                              Name   Sex  \\\n",
       "179          180         0       3               Leonard, Mr. Lionel  male   \n",
       "263          264         0       1             Harrison, Mr. William  male   \n",
       "271          272         1       3      Tornquist, Mr. William Henry  male   \n",
       "277          278         0       2       Parkes, Mr. Francis \"Frank\"  male   \n",
       "302          303         0       3   Johnson, Mr. William Cahoone Jr  male   \n",
       "413          414         0       2    Cunningham, Mr. Alfred Fleming  male   \n",
       "466          467         0       2             Campbell, Mr. William  male   \n",
       "481          482         0       2  Frost, Mr. Anthony Wood \"Archie\"  male   \n",
       "597          598         0       3               Johnson, Mr. Alfred  male   \n",
       "633          634         0       1     Parr, Mr. William Henry Marsh  male   \n",
       "674          675         0       2        Watson, Mr. Ennis Hastings  male   \n",
       "732          733         0       2              Knight, Mr. Robert J  male   \n",
       "806          807         0       1            Andrews, Mr. Thomas Jr  male   \n",
       "815          816         0       1                  Fry, Mr. Richard  male   \n",
       "822          823         0       1   Reuchlin, Jonkheer. John George  male   \n",
       "\n",
       "      Age  SibSp  Parch  Ticket  Fare Cabin Embarked  \n",
       "179  36.0      0      0    LINE   0.0   NaN        S  \n",
       "263  40.0      0      0  112059   0.0   B94        S  \n",
       "271  25.0      0      0    LINE   0.0   NaN        S  \n",
       "277   NaN      0      0  239853   0.0   NaN        S  \n",
       "302  19.0      0      0    LINE   0.0   NaN        S  \n",
       "413   NaN      0      0  239853   0.0   NaN        S  \n",
       "466   NaN      0      0  239853   0.0   NaN        S  \n",
       "481   NaN      0      0  239854   0.0   NaN        S  \n",
       "597  49.0      0      0    LINE   0.0   NaN        S  \n",
       "633   NaN      0      0  112052   0.0   NaN        S  \n",
       "674   NaN      0      0  239856   0.0   NaN        S  \n",
       "732   NaN      0      0  239855   0.0   NaN        S  \n",
       "806  39.0      0      0  112050   0.0   A36        S  \n",
       "815   NaN      0      0  112058   0.0  B102        S  \n",
       "822  38.0      0      0   19972   0.0   NaN        S  "
      ]
     },
     "execution_count": 46,
     "metadata": {},
     "output_type": "execute_result"
    }
   ],
   "source": [
    "df[df[\"Fare\"]==0]"
   ]
  },
  {
   "cell_type": "code",
   "execution_count": 45,
   "id": "4ff5b1bf",
   "metadata": {},
   "outputs": [
    {
     "data": {
      "text/plain": [
       "15"
      ]
     },
     "execution_count": 45,
     "metadata": {},
     "output_type": "execute_result"
    }
   ],
   "source": [
    "len(df[df[\"Fare\"]==0])"
   ]
  },
  {
   "cell_type": "markdown",
   "id": "0c20e8ce",
   "metadata": {},
   "source": [
    "- Total 15 records are having Fare zero.\n",
    "- And all 15 persons are among three different class.\n",
    "- All 15 persons embarked from Southampton.\n",
    "- All are male.\n",
    "- This is result of wrong entry."
   ]
  },
  {
   "cell_type": "code",
   "execution_count": 47,
   "id": "1ff4352b",
   "metadata": {},
   "outputs": [
    {
     "data": {
      "text/plain": [
       "4.787316519674893"
      ]
     },
     "execution_count": 47,
     "metadata": {},
     "output_type": "execute_result"
    }
   ],
   "source": [
    "# A skewness value greater than 1 or less than -1 indicates a highly skewed distribution. \n",
    "# A value between 0.5 and 1 or -0.5 and -1 is moderately skewed. \n",
    "# A value between -0.5 and 0.5 indicates that the distribution is fairly symmetrical.\n",
    "\n",
    "df[\"Fare\"].skew()"
   ]
  },
  {
   "cell_type": "markdown",
   "id": "94cdfac2",
   "metadata": {},
   "source": [
    "### a. Histogram"
   ]
  },
  {
   "cell_type": "code",
   "execution_count": 48,
   "id": "6adf8009",
   "metadata": {},
   "outputs": [
    {
     "data": {
      "image/png": "[encoded data removed]",
      "text/plain": [
       "<Figure size 842.4x595.44 with 1 Axes>"
      ]
     },
     "metadata": {},
     "output_type": "display_data"
    }
   ],
   "source": [
    "plt.hist(df[\"Fare\"])\n",
    "plt.show()"
   ]
  },
  {
   "cell_type": "markdown",
   "id": "368eac2c",
   "metadata": {},
   "source": [
    "##### Highly Right Skewed"
   ]
  },
  {
   "cell_type": "markdown",
   "id": "afaded26",
   "metadata": {},
   "source": [
    "### b. Distrbution Plot"
   ]
  },
  {
   "cell_type": "code",
   "execution_count": 49,
   "id": "329464b1",
   "metadata": {},
   "outputs": [
    {
     "data": {
      "image/png": "[encoded data removed]",
      "text/plain": [
       "<Figure size 842.4x595.44 with 1 Axes>"
      ]
     },
     "metadata": {},
     "output_type": "display_data"
    }
   ],
   "source": [
    "sns.distplot(df[\"Fare\"])\n",
    "plt.show()"
   ]
  },
  {
   "cell_type": "markdown",
   "id": "d1eacf7a",
   "metadata": {},
   "source": [
    "### c. Box plot"
   ]
  },
  {
   "cell_type": "code",
   "execution_count": 52,
   "id": "5547ab00",
   "metadata": {},
   "outputs": [
    {
     "data": {
      "image/png": "[encoded data removed]",
      "text/plain": [
       "<Figure size 842.4x595.44 with 1 Axes>"
      ]
     },
     "metadata": {},
     "output_type": "display_data"
    }
   ],
   "source": [
    "sns.boxplot(df[\"Fare\"])\n",
    "plt.show()"
   ]
  },
  {
   "cell_type": "markdown",
   "id": "f0566c69",
   "metadata": {},
   "source": [
    "- That all for this notebook: EDA using Univariate Analysis\n",
    "- There are lots of method and approach out there, which we can ue for analyzing our features of data.\n",
    "- That totally depend over your use case and what you want to know from data.\n",
    "- The questions you will be asking from data are going to be different in each case.\n",
    "- There is no hard and rule that we should go like this or like that. These things totally depends over your experiment and use case."
   ]
  },
  {
   "cell_type": "markdown",
   "id": "33bcc901",
   "metadata": {},
   "source": [
    "### Next Notebook: EDA using Bivariate and Multivariate Analysis."
   ]
  },
  {
   "cell_type": "code",
   "execution_count": null,
   "id": "e33995d7",
   "metadata": {},
   "outputs": [],
   "source": []
  }
 ],
 "metadata": {
  "kernelspec": {
   "display_name": "Python 3 (ipykernel)",
   "language": "python",
   "name": "python3"
  },
  "language_info": {
   "codemirror_mode": {
    "name": "ipython",
    "version": 3
   },
   "file_extension": ".py",
   "mimetype": "text/x-python",
   "name": "python",
   "nbconvert_exporter": "python",
   "pygments_lexer": "ipython3",
   "version": "3.7.13"
  }
 },
 "nbformat": 4,
 "nbformat_minor": 5
}
